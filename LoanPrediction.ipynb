{
 "cells": [
  {
   "cell_type": "code",
   "execution_count": 11,
   "metadata": {},
   "outputs": [],
   "source": [
    "import pandas as pd\n",
    "import numpy as np \n",
    "import matplotlib.pyplot as plt\n",
    "import seaborn as sn"
   ]
  },
  {
   "cell_type": "markdown",
   "metadata": {},
   "source": [
    "### Import training data"
   ]
  },
  {
   "cell_type": "code",
   "execution_count": 12,
   "metadata": {},
   "outputs": [],
   "source": [
    "train_df = pd.read_csv('bank_train.csv')"
   ]
  },
  {
   "cell_type": "markdown",
   "metadata": {},
   "source": [
    "### Initial analysis"
   ]
  },
  {
   "cell_type": "code",
   "execution_count": 13,
   "metadata": {
    "scrolled": true
   },
   "outputs": [
    {
     "data": {
      "text/html": [
       "<div>\n",
       "<style scoped>\n",
       "    .dataframe tbody tr th:only-of-type {\n",
       "        vertical-align: middle;\n",
       "    }\n",
       "\n",
       "    .dataframe tbody tr th {\n",
       "        vertical-align: top;\n",
       "    }\n",
       "\n",
       "    .dataframe thead th {\n",
       "        text-align: right;\n",
       "    }\n",
       "</style>\n",
       "<table border=\"1\" class=\"dataframe\">\n",
       "  <thead>\n",
       "    <tr style=\"text-align: right;\">\n",
       "      <th></th>\n",
       "      <th>Loan_ID</th>\n",
       "      <th>Gender</th>\n",
       "      <th>Married</th>\n",
       "      <th>Dependents</th>\n",
       "      <th>Education</th>\n",
       "      <th>Self_Employed</th>\n",
       "      <th>ApplicantIncome</th>\n",
       "      <th>CoapplicantIncome</th>\n",
       "      <th>LoanAmount</th>\n",
       "      <th>Loan_Amount_Term</th>\n",
       "      <th>Credit_History</th>\n",
       "      <th>Property_Area</th>\n",
       "      <th>Loan_Status</th>\n",
       "    </tr>\n",
       "  </thead>\n",
       "  <tbody>\n",
       "    <tr>\n",
       "      <th>0</th>\n",
       "      <td>LP001002</td>\n",
       "      <td>Male</td>\n",
       "      <td>No</td>\n",
       "      <td>0</td>\n",
       "      <td>Graduate</td>\n",
       "      <td>No</td>\n",
       "      <td>5849</td>\n",
       "      <td>0.0</td>\n",
       "      <td>NaN</td>\n",
       "      <td>360.0</td>\n",
       "      <td>1.0</td>\n",
       "      <td>Urban</td>\n",
       "      <td>Y</td>\n",
       "    </tr>\n",
       "    <tr>\n",
       "      <th>1</th>\n",
       "      <td>LP001003</td>\n",
       "      <td>Male</td>\n",
       "      <td>Yes</td>\n",
       "      <td>1</td>\n",
       "      <td>Graduate</td>\n",
       "      <td>No</td>\n",
       "      <td>4583</td>\n",
       "      <td>1508.0</td>\n",
       "      <td>128.0</td>\n",
       "      <td>360.0</td>\n",
       "      <td>1.0</td>\n",
       "      <td>Rural</td>\n",
       "      <td>N</td>\n",
       "    </tr>\n",
       "    <tr>\n",
       "      <th>2</th>\n",
       "      <td>LP001005</td>\n",
       "      <td>Male</td>\n",
       "      <td>Yes</td>\n",
       "      <td>0</td>\n",
       "      <td>Graduate</td>\n",
       "      <td>Yes</td>\n",
       "      <td>3000</td>\n",
       "      <td>0.0</td>\n",
       "      <td>66.0</td>\n",
       "      <td>360.0</td>\n",
       "      <td>1.0</td>\n",
       "      <td>Urban</td>\n",
       "      <td>Y</td>\n",
       "    </tr>\n",
       "    <tr>\n",
       "      <th>3</th>\n",
       "      <td>LP001006</td>\n",
       "      <td>Male</td>\n",
       "      <td>Yes</td>\n",
       "      <td>0</td>\n",
       "      <td>Not Graduate</td>\n",
       "      <td>No</td>\n",
       "      <td>2583</td>\n",
       "      <td>2358.0</td>\n",
       "      <td>120.0</td>\n",
       "      <td>360.0</td>\n",
       "      <td>1.0</td>\n",
       "      <td>Urban</td>\n",
       "      <td>Y</td>\n",
       "    </tr>\n",
       "    <tr>\n",
       "      <th>4</th>\n",
       "      <td>LP001008</td>\n",
       "      <td>Male</td>\n",
       "      <td>No</td>\n",
       "      <td>0</td>\n",
       "      <td>Graduate</td>\n",
       "      <td>No</td>\n",
       "      <td>6000</td>\n",
       "      <td>0.0</td>\n",
       "      <td>141.0</td>\n",
       "      <td>360.0</td>\n",
       "      <td>1.0</td>\n",
       "      <td>Urban</td>\n",
       "      <td>Y</td>\n",
       "    </tr>\n",
       "  </tbody>\n",
       "</table>\n",
       "</div>"
      ],
      "text/plain": [
       "    Loan_ID Gender Married Dependents     Education Self_Employed  \\\n",
       "0  LP001002   Male      No          0      Graduate            No   \n",
       "1  LP001003   Male     Yes          1      Graduate            No   \n",
       "2  LP001005   Male     Yes          0      Graduate           Yes   \n",
       "3  LP001006   Male     Yes          0  Not Graduate            No   \n",
       "4  LP001008   Male      No          0      Graduate            No   \n",
       "\n",
       "   ApplicantIncome  CoapplicantIncome  LoanAmount  Loan_Amount_Term  \\\n",
       "0             5849                0.0         NaN             360.0   \n",
       "1             4583             1508.0       128.0             360.0   \n",
       "2             3000                0.0        66.0             360.0   \n",
       "3             2583             2358.0       120.0             360.0   \n",
       "4             6000                0.0       141.0             360.0   \n",
       "\n",
       "   Credit_History Property_Area Loan_Status  \n",
       "0             1.0         Urban           Y  \n",
       "1             1.0         Rural           N  \n",
       "2             1.0         Urban           Y  \n",
       "3             1.0         Urban           Y  \n",
       "4             1.0         Urban           Y  "
      ]
     },
     "execution_count": 13,
     "metadata": {},
     "output_type": "execute_result"
    }
   ],
   "source": [
    "train_df.head()"
   ]
  },
  {
   "cell_type": "markdown",
   "metadata": {},
   "source": [
    "male married graduate in the rural was rejected it seems because of 1 dependant."
   ]
  },
  {
   "cell_type": "code",
   "execution_count": 14,
   "metadata": {},
   "outputs": [],
   "source": [
    "# Format column naming consistency\n",
    "train_df.columns = ['loan id','gender','married','dependants','education',\n",
    "                    'self employed','applicant income',\n",
    "                    'co applicant income','loan amount','loan amount term',\n",
    "                    'credit history','property area','loan status']"
   ]
  },
  {
   "cell_type": "markdown",
   "metadata": {},
   "source": [
    "### Column observation"
   ]
  },
  {
   "cell_type": "code",
   "execution_count": 15,
   "metadata": {},
   "outputs": [
    {
     "data": {
      "text/plain": [
       "loan id                 object\n",
       "gender                  object\n",
       "married                 object\n",
       "dependants              object\n",
       "education               object\n",
       "self employed           object\n",
       "applicant income         int64\n",
       "co applicant income    float64\n",
       "loan amount            float64\n",
       "loan amount term       float64\n",
       "credit history         float64\n",
       "property area           object\n",
       "loan status             object\n",
       "dtype: object"
      ]
     },
     "execution_count": 15,
     "metadata": {},
     "output_type": "execute_result"
    }
   ],
   "source": [
    "train_df.dtypes"
   ]
  },
  {
   "cell_type": "code",
   "execution_count": 16,
   "metadata": {},
   "outputs": [
    {
     "data": {
      "text/plain": [
       "<AxesSubplot:>"
      ]
     },
     "execution_count": 16,
     "metadata": {},
     "output_type": "execute_result"
    },
    {
     "data": {
      "image/png": "[encoded data removed]",
      "text/plain": [
       "<Figure size 432x288 with 1 Axes>"
      ]
     },
     "metadata": {
      "needs_background": "light"
     },
     "output_type": "display_data"
    }
   ],
   "source": [
    "sn.heatmap(train_df.isnull(),yticklabels=False,cbar=False,cmap=\"Blues\")"
   ]
  },
  {
   "cell_type": "markdown",
   "metadata": {},
   "source": [
    "# Preprocess"
   ]
  },
  {
   "cell_type": "code",
   "execution_count": 17,
   "metadata": {},
   "outputs": [
    {
     "name": "stdout",
     "output_type": "stream",
     "text": [
      "loan id                 0\n",
      "gender                 13\n",
      "married                 3\n",
      "dependants             15\n",
      "education               0\n",
      "self employed          32\n",
      "applicant income        0\n",
      "co applicant income     0\n",
      "loan amount            22\n",
      "loan amount term       14\n",
      "credit history         50\n",
      "property area           0\n",
      "loan status             0\n",
      "dtype: int64\n"
     ]
    }
   ],
   "source": [
    "print(train_df.isna().sum()) "
   ]
  },
  {
   "cell_type": "markdown",
   "metadata": {},
   "source": [
    "I chose not to remove all the nulls because the data reduces significantly if so"
   ]
  },
  {
   "cell_type": "markdown",
   "metadata": {},
   "source": [
    "Credit history loan amount and loan amount term seem to be impotant, the other columns containing nulls can be placed into the no optinon of a binary case, credit history will be filled with zeros"
   ]
  },
  {
   "cell_type": "markdown",
   "metadata": {},
   "source": [
    "### Test credit history significance"
   ]
  },
  {
   "cell_type": "code",
   "execution_count": 18,
   "metadata": {
    "scrolled": true
   },
   "outputs": [
    {
     "data": {
      "text/plain": [
       "array([ 1.,  0., nan])"
      ]
     },
     "execution_count": 18,
     "metadata": {},
     "output_type": "execute_result"
    }
   ],
   "source": [
    "train_df[\"credit history\"].unique()"
   ]
  },
  {
   "cell_type": "code",
   "execution_count": 19,
   "metadata": {},
   "outputs": [
    {
     "name": "stdout",
     "output_type": "stream",
     "text": [
      "credit history 1 = Y 378\n",
      "credit history 0 = Y 7\n",
      "credit history 1 = N 97\n",
      "credit history 0 = N 82\n"
     ]
    }
   ],
   "source": [
    "# find some significance from credit history\n",
    "temp = train_df[train_df[\"credit history\"] == 1]\n",
    "temp2 = train_df[train_df[\"credit history\"] == 0]\n",
    "print('credit history 1 = Y', len(temp[temp['loan status'] =='Y']))\n",
    "print('credit history 0 = Y', len(temp2[temp2['loan status'] =='Y']))\n",
    "\n",
    "print('credit history 1 = N', len(temp[temp['loan status'] =='N']))\n",
    "print('credit history 0 = N', len(temp2[temp2['loan status'] =='N']))"
   ]
  },
  {
   "cell_type": "markdown",
   "metadata": {},
   "source": [
    "finding: 1 in credit history results in higher probability of achieving loan."
   ]
  },
  {
   "cell_type": "code",
   "execution_count": 20,
   "metadata": {},
   "outputs": [
    {
     "data": {
      "text/html": [
       "<div>\n",
       "<style scoped>\n",
       "    .dataframe tbody tr th:only-of-type {\n",
       "        vertical-align: middle;\n",
       "    }\n",
       "\n",
       "    .dataframe tbody tr th {\n",
       "        vertical-align: top;\n",
       "    }\n",
       "\n",
       "    .dataframe thead th {\n",
       "        text-align: right;\n",
       "    }\n",
       "</style>\n",
       "<table border=\"1\" class=\"dataframe\">\n",
       "  <thead>\n",
       "    <tr style=\"text-align: right;\">\n",
       "      <th></th>\n",
       "      <th>loan id</th>\n",
       "      <th>gender</th>\n",
       "      <th>married</th>\n",
       "      <th>dependants</th>\n",
       "      <th>education</th>\n",
       "      <th>self employed</th>\n",
       "      <th>applicant income</th>\n",
       "      <th>co applicant income</th>\n",
       "      <th>loan amount</th>\n",
       "      <th>loan amount term</th>\n",
       "      <th>credit history</th>\n",
       "      <th>property area</th>\n",
       "      <th>loan status</th>\n",
       "    </tr>\n",
       "  </thead>\n",
       "  <tbody>\n",
       "    <tr>\n",
       "      <th>122</th>\n",
       "      <td>LP001431</td>\n",
       "      <td>Female</td>\n",
       "      <td>No</td>\n",
       "      <td>0</td>\n",
       "      <td>Graduate</td>\n",
       "      <td>No</td>\n",
       "      <td>2137</td>\n",
       "      <td>8980.0</td>\n",
       "      <td>137.0</td>\n",
       "      <td>360.0</td>\n",
       "      <td>0.0</td>\n",
       "      <td>Semiurban</td>\n",
       "      <td>Y</td>\n",
       "    </tr>\n",
       "    <tr>\n",
       "      <th>155</th>\n",
       "      <td>LP001536</td>\n",
       "      <td>Male</td>\n",
       "      <td>Yes</td>\n",
       "      <td>3+</td>\n",
       "      <td>Graduate</td>\n",
       "      <td>No</td>\n",
       "      <td>39999</td>\n",
       "      <td>0.0</td>\n",
       "      <td>600.0</td>\n",
       "      <td>180.0</td>\n",
       "      <td>0.0</td>\n",
       "      <td>Semiurban</td>\n",
       "      <td>Y</td>\n",
       "    </tr>\n",
       "    <tr>\n",
       "      <th>201</th>\n",
       "      <td>LP001677</td>\n",
       "      <td>Male</td>\n",
       "      <td>No</td>\n",
       "      <td>2</td>\n",
       "      <td>Graduate</td>\n",
       "      <td>No</td>\n",
       "      <td>4923</td>\n",
       "      <td>0.0</td>\n",
       "      <td>166.0</td>\n",
       "      <td>360.0</td>\n",
       "      <td>0.0</td>\n",
       "      <td>Semiurban</td>\n",
       "      <td>Y</td>\n",
       "    </tr>\n",
       "    <tr>\n",
       "      <th>267</th>\n",
       "      <td>LP001882</td>\n",
       "      <td>Male</td>\n",
       "      <td>Yes</td>\n",
       "      <td>3+</td>\n",
       "      <td>Graduate</td>\n",
       "      <td>No</td>\n",
       "      <td>4333</td>\n",
       "      <td>1811.0</td>\n",
       "      <td>160.0</td>\n",
       "      <td>360.0</td>\n",
       "      <td>0.0</td>\n",
       "      <td>Urban</td>\n",
       "      <td>Y</td>\n",
       "    </tr>\n",
       "    <tr>\n",
       "      <th>326</th>\n",
       "      <td>LP002068</td>\n",
       "      <td>Male</td>\n",
       "      <td>No</td>\n",
       "      <td>0</td>\n",
       "      <td>Graduate</td>\n",
       "      <td>No</td>\n",
       "      <td>4917</td>\n",
       "      <td>0.0</td>\n",
       "      <td>130.0</td>\n",
       "      <td>360.0</td>\n",
       "      <td>0.0</td>\n",
       "      <td>Rural</td>\n",
       "      <td>Y</td>\n",
       "    </tr>\n",
       "    <tr>\n",
       "      <th>453</th>\n",
       "      <td>LP002449</td>\n",
       "      <td>Male</td>\n",
       "      <td>Yes</td>\n",
       "      <td>0</td>\n",
       "      <td>Graduate</td>\n",
       "      <td>No</td>\n",
       "      <td>2483</td>\n",
       "      <td>2466.0</td>\n",
       "      <td>90.0</td>\n",
       "      <td>180.0</td>\n",
       "      <td>0.0</td>\n",
       "      <td>Rural</td>\n",
       "      <td>Y</td>\n",
       "    </tr>\n",
       "    <tr>\n",
       "      <th>527</th>\n",
       "      <td>LP002706</td>\n",
       "      <td>Male</td>\n",
       "      <td>Yes</td>\n",
       "      <td>1</td>\n",
       "      <td>Not Graduate</td>\n",
       "      <td>No</td>\n",
       "      <td>5285</td>\n",
       "      <td>1430.0</td>\n",
       "      <td>161.0</td>\n",
       "      <td>360.0</td>\n",
       "      <td>0.0</td>\n",
       "      <td>Semiurban</td>\n",
       "      <td>Y</td>\n",
       "    </tr>\n",
       "  </tbody>\n",
       "</table>\n",
       "</div>"
      ],
      "text/plain": [
       "      loan id  gender married dependants     education self employed  \\\n",
       "122  LP001431  Female      No          0      Graduate            No   \n",
       "155  LP001536    Male     Yes         3+      Graduate            No   \n",
       "201  LP001677    Male      No          2      Graduate            No   \n",
       "267  LP001882    Male     Yes         3+      Graduate            No   \n",
       "326  LP002068    Male      No          0      Graduate            No   \n",
       "453  LP002449    Male     Yes          0      Graduate            No   \n",
       "527  LP002706    Male     Yes          1  Not Graduate            No   \n",
       "\n",
       "     applicant income  co applicant income  loan amount  loan amount term  \\\n",
       "122              2137               8980.0        137.0             360.0   \n",
       "155             39999                  0.0        600.0             180.0   \n",
       "201              4923                  0.0        166.0             360.0   \n",
       "267              4333               1811.0        160.0             360.0   \n",
       "326              4917                  0.0        130.0             360.0   \n",
       "453              2483               2466.0         90.0             180.0   \n",
       "527              5285               1430.0        161.0             360.0   \n",
       "\n",
       "     credit history property area loan status  \n",
       "122             0.0     Semiurban           Y  \n",
       "155             0.0     Semiurban           Y  \n",
       "201             0.0     Semiurban           Y  \n",
       "267             0.0         Urban           Y  \n",
       "326             0.0         Rural           Y  \n",
       "453             0.0         Rural           Y  \n",
       "527             0.0     Semiurban           Y  "
      ]
     },
     "execution_count": 20,
     "metadata": {},
     "output_type": "execute_result"
    }
   ],
   "source": [
    "# here is a frame showing succesful applicants with 0 credit history\n",
    "temp2[temp2['loan status'] =='Y']"
   ]
  },
  {
   "cell_type": "markdown",
   "metadata": {},
   "source": [
    "### Convert and clean binary columns"
   ]
  },
  {
   "cell_type": "code",
   "execution_count": 21,
   "metadata": {},
   "outputs": [],
   "source": [
    "# change column to binary and fill nulls with zeros\n",
    "train_df['credit history'] = train_df['credit history'].fillna(0).astype(int)\n",
    "train_df['loan amount term'] = train_df['loan amount term'].fillna(0)\n",
    "train_df['loan amount'] = train_df['loan amount'].fillna(0)"
   ]
  },
  {
   "cell_type": "code",
   "execution_count": 22,
   "metadata": {
    "scrolled": true
   },
   "outputs": [],
   "source": [
    "# change to binary married column\n",
    "\n",
    "temp = pd.get_dummies(train_df['married'])\n",
    "temp = temp.drop('No',axis=1)\n",
    "temp = temp.rename(columns = {'Yes':'married'})\n",
    "train_df = train_df.drop('married',axis=1)\n",
    "train_df = pd.concat((train_df, temp), axis = 1)\n"
   ]
  },
  {
   "cell_type": "code",
   "execution_count": 23,
   "metadata": {},
   "outputs": [],
   "source": [
    "# change to binary education column\n",
    "temp = pd.get_dummies(train_df['education'])\n",
    "temp = temp.drop('Not Graduate',axis=1)\n",
    "temp = temp.rename(columns = {'Graduate':'graduate'})\n",
    "train_df = train_df.drop('education',axis=1)\n",
    "train_df = pd.concat((train_df, temp), axis = 1)\n"
   ]
  },
  {
   "cell_type": "code",
   "execution_count": 24,
   "metadata": {},
   "outputs": [
    {
     "data": {
      "text/plain": [
       "Index(['loan id', 'gender', 'dependants', 'self employed', 'applicant income',\n",
       "       'co applicant income', 'loan amount', 'loan amount term',\n",
       "       'credit history', 'property area', 'loan status', 'married',\n",
       "       'graduate'],\n",
       "      dtype='object')"
      ]
     },
     "execution_count": 24,
     "metadata": {},
     "output_type": "execute_result"
    }
   ],
   "source": [
    "train_df.columns"
   ]
  },
  {
   "cell_type": "code",
   "execution_count": 25,
   "metadata": {},
   "outputs": [],
   "source": [
    "# change self employed to binary\n",
    "\n",
    "temp = pd.get_dummies(train_df['self employed'])\n",
    "temp = temp.drop('No',axis=1)\n",
    "temp = temp.rename(columns = {'Yes':'self employed'})\n",
    "train_df = train_df.drop('self employed',axis=1)\n",
    "train_df = pd.concat((train_df, temp), axis = 1)\n"
   ]
  },
  {
   "cell_type": "code",
   "execution_count": 26,
   "metadata": {},
   "outputs": [
    {
     "name": "stdout",
     "output_type": "stream",
     "text": [
      "\n",
      "cleaned data frame loan id                 0\n",
      "gender                 13\n",
      "dependants             15\n",
      "applicant income        0\n",
      "co applicant income     0\n",
      "loan amount             0\n",
      "loan amount term        0\n",
      "credit history          0\n",
      "property area           0\n",
      "loan status             0\n",
      "married                 0\n",
      "graduate                0\n",
      "self employed           0\n",
      "dtype: int64\n"
     ]
    }
   ],
   "source": [
    "# check remaining nans\n",
    "print('\\ncleaned data frame', train_df.isna().sum())"
   ]
  },
  {
   "cell_type": "markdown",
   "metadata": {},
   "source": [
    "clear the addition sign in dependants category and convert column to int"
   ]
  },
  {
   "cell_type": "markdown",
   "metadata": {},
   "source": [
    "I couldnt convert float nan to integer so before i remove it i shall find whether i shall fill na with 0 or remove because this may be important considering loans"
   ]
  },
  {
   "cell_type": "code",
   "execution_count": 27,
   "metadata": {},
   "outputs": [
    {
     "data": {
      "text/html": [
       "<div>\n",
       "<style scoped>\n",
       "    .dataframe tbody tr th:only-of-type {\n",
       "        vertical-align: middle;\n",
       "    }\n",
       "\n",
       "    .dataframe tbody tr th {\n",
       "        vertical-align: top;\n",
       "    }\n",
       "\n",
       "    .dataframe thead th {\n",
       "        text-align: right;\n",
       "    }\n",
       "</style>\n",
       "<table border=\"1\" class=\"dataframe\">\n",
       "  <thead>\n",
       "    <tr style=\"text-align: right;\">\n",
       "      <th></th>\n",
       "      <th>loan id</th>\n",
       "      <th>gender</th>\n",
       "      <th>dependants</th>\n",
       "      <th>applicant income</th>\n",
       "      <th>co applicant income</th>\n",
       "      <th>loan amount</th>\n",
       "      <th>loan amount term</th>\n",
       "      <th>credit history</th>\n",
       "      <th>property area</th>\n",
       "      <th>loan status</th>\n",
       "      <th>married</th>\n",
       "      <th>graduate</th>\n",
       "      <th>self employed</th>\n",
       "    </tr>\n",
       "  </thead>\n",
       "  <tbody>\n",
       "    <tr>\n",
       "      <th>0</th>\n",
       "      <td>LP001002</td>\n",
       "      <td>Male</td>\n",
       "      <td>0</td>\n",
       "      <td>5849</td>\n",
       "      <td>0.0</td>\n",
       "      <td>0.0</td>\n",
       "      <td>360.0</td>\n",
       "      <td>1</td>\n",
       "      <td>Urban</td>\n",
       "      <td>Y</td>\n",
       "      <td>0</td>\n",
       "      <td>1</td>\n",
       "      <td>0</td>\n",
       "    </tr>\n",
       "    <tr>\n",
       "      <th>1</th>\n",
       "      <td>LP001003</td>\n",
       "      <td>Male</td>\n",
       "      <td>1</td>\n",
       "      <td>4583</td>\n",
       "      <td>1508.0</td>\n",
       "      <td>128.0</td>\n",
       "      <td>360.0</td>\n",
       "      <td>1</td>\n",
       "      <td>Rural</td>\n",
       "      <td>N</td>\n",
       "      <td>1</td>\n",
       "      <td>1</td>\n",
       "      <td>0</td>\n",
       "    </tr>\n",
       "    <tr>\n",
       "      <th>2</th>\n",
       "      <td>LP001005</td>\n",
       "      <td>Male</td>\n",
       "      <td>0</td>\n",
       "      <td>3000</td>\n",
       "      <td>0.0</td>\n",
       "      <td>66.0</td>\n",
       "      <td>360.0</td>\n",
       "      <td>1</td>\n",
       "      <td>Urban</td>\n",
       "      <td>Y</td>\n",
       "      <td>1</td>\n",
       "      <td>1</td>\n",
       "      <td>1</td>\n",
       "    </tr>\n",
       "    <tr>\n",
       "      <th>3</th>\n",
       "      <td>LP001006</td>\n",
       "      <td>Male</td>\n",
       "      <td>0</td>\n",
       "      <td>2583</td>\n",
       "      <td>2358.0</td>\n",
       "      <td>120.0</td>\n",
       "      <td>360.0</td>\n",
       "      <td>1</td>\n",
       "      <td>Urban</td>\n",
       "      <td>Y</td>\n",
       "      <td>1</td>\n",
       "      <td>0</td>\n",
       "      <td>0</td>\n",
       "    </tr>\n",
       "    <tr>\n",
       "      <th>4</th>\n",
       "      <td>LP001008</td>\n",
       "      <td>Male</td>\n",
       "      <td>0</td>\n",
       "      <td>6000</td>\n",
       "      <td>0.0</td>\n",
       "      <td>141.0</td>\n",
       "      <td>360.0</td>\n",
       "      <td>1</td>\n",
       "      <td>Urban</td>\n",
       "      <td>Y</td>\n",
       "      <td>0</td>\n",
       "      <td>1</td>\n",
       "      <td>0</td>\n",
       "    </tr>\n",
       "    <tr>\n",
       "      <th>...</th>\n",
       "      <td>...</td>\n",
       "      <td>...</td>\n",
       "      <td>...</td>\n",
       "      <td>...</td>\n",
       "      <td>...</td>\n",
       "      <td>...</td>\n",
       "      <td>...</td>\n",
       "      <td>...</td>\n",
       "      <td>...</td>\n",
       "      <td>...</td>\n",
       "      <td>...</td>\n",
       "      <td>...</td>\n",
       "      <td>...</td>\n",
       "    </tr>\n",
       "    <tr>\n",
       "      <th>609</th>\n",
       "      <td>LP002978</td>\n",
       "      <td>Female</td>\n",
       "      <td>0</td>\n",
       "      <td>2900</td>\n",
       "      <td>0.0</td>\n",
       "      <td>71.0</td>\n",
       "      <td>360.0</td>\n",
       "      <td>1</td>\n",
       "      <td>Rural</td>\n",
       "      <td>Y</td>\n",
       "      <td>0</td>\n",
       "      <td>1</td>\n",
       "      <td>0</td>\n",
       "    </tr>\n",
       "    <tr>\n",
       "      <th>610</th>\n",
       "      <td>LP002979</td>\n",
       "      <td>Male</td>\n",
       "      <td>3+</td>\n",
       "      <td>4106</td>\n",
       "      <td>0.0</td>\n",
       "      <td>40.0</td>\n",
       "      <td>180.0</td>\n",
       "      <td>1</td>\n",
       "      <td>Rural</td>\n",
       "      <td>Y</td>\n",
       "      <td>1</td>\n",
       "      <td>1</td>\n",
       "      <td>0</td>\n",
       "    </tr>\n",
       "    <tr>\n",
       "      <th>611</th>\n",
       "      <td>LP002983</td>\n",
       "      <td>Male</td>\n",
       "      <td>1</td>\n",
       "      <td>8072</td>\n",
       "      <td>240.0</td>\n",
       "      <td>253.0</td>\n",
       "      <td>360.0</td>\n",
       "      <td>1</td>\n",
       "      <td>Urban</td>\n",
       "      <td>Y</td>\n",
       "      <td>1</td>\n",
       "      <td>1</td>\n",
       "      <td>0</td>\n",
       "    </tr>\n",
       "    <tr>\n",
       "      <th>612</th>\n",
       "      <td>LP002984</td>\n",
       "      <td>Male</td>\n",
       "      <td>2</td>\n",
       "      <td>7583</td>\n",
       "      <td>0.0</td>\n",
       "      <td>187.0</td>\n",
       "      <td>360.0</td>\n",
       "      <td>1</td>\n",
       "      <td>Urban</td>\n",
       "      <td>Y</td>\n",
       "      <td>1</td>\n",
       "      <td>1</td>\n",
       "      <td>0</td>\n",
       "    </tr>\n",
       "    <tr>\n",
       "      <th>613</th>\n",
       "      <td>LP002990</td>\n",
       "      <td>Female</td>\n",
       "      <td>0</td>\n",
       "      <td>4583</td>\n",
       "      <td>0.0</td>\n",
       "      <td>133.0</td>\n",
       "      <td>360.0</td>\n",
       "      <td>0</td>\n",
       "      <td>Semiurban</td>\n",
       "      <td>N</td>\n",
       "      <td>0</td>\n",
       "      <td>1</td>\n",
       "      <td>1</td>\n",
       "    </tr>\n",
       "  </tbody>\n",
       "</table>\n",
       "<p>614 rows × 13 columns</p>\n",
       "</div>"
      ],
      "text/plain": [
       "      loan id  gender dependants  applicant income  co applicant income  \\\n",
       "0    LP001002    Male          0              5849                  0.0   \n",
       "1    LP001003    Male          1              4583               1508.0   \n",
       "2    LP001005    Male          0              3000                  0.0   \n",
       "3    LP001006    Male          0              2583               2358.0   \n",
       "4    LP001008    Male          0              6000                  0.0   \n",
       "..        ...     ...        ...               ...                  ...   \n",
       "609  LP002978  Female          0              2900                  0.0   \n",
       "610  LP002979    Male         3+              4106                  0.0   \n",
       "611  LP002983    Male          1              8072                240.0   \n",
       "612  LP002984    Male          2              7583                  0.0   \n",
       "613  LP002990  Female          0              4583                  0.0   \n",
       "\n",
       "     loan amount  loan amount term  credit history property area loan status  \\\n",
       "0            0.0             360.0               1         Urban           Y   \n",
       "1          128.0             360.0               1         Rural           N   \n",
       "2           66.0             360.0               1         Urban           Y   \n",
       "3          120.0             360.0               1         Urban           Y   \n",
       "4          141.0             360.0               1         Urban           Y   \n",
       "..           ...               ...             ...           ...         ...   \n",
       "609         71.0             360.0               1         Rural           Y   \n",
       "610         40.0             180.0               1         Rural           Y   \n",
       "611        253.0             360.0               1         Urban           Y   \n",
       "612        187.0             360.0               1         Urban           Y   \n",
       "613        133.0             360.0               0     Semiurban           N   \n",
       "\n",
       "     married  graduate  self employed  \n",
       "0          0         1              0  \n",
       "1          1         1              0  \n",
       "2          1         1              1  \n",
       "3          1         0              0  \n",
       "4          0         1              0  \n",
       "..       ...       ...            ...  \n",
       "609        0         1              0  \n",
       "610        1         1              0  \n",
       "611        1         1              0  \n",
       "612        1         1              0  \n",
       "613        0         1              1  \n",
       "\n",
       "[614 rows x 13 columns]"
      ]
     },
     "execution_count": 27,
     "metadata": {},
     "output_type": "execute_result"
    }
   ],
   "source": [
    "train_df"
   ]
  },
  {
   "cell_type": "markdown",
   "metadata": {},
   "source": [
    "### check dependents column"
   ]
  },
  {
   "cell_type": "code",
   "execution_count": 28,
   "metadata": {
    "scrolled": true
   },
   "outputs": [
    {
     "data": {
      "text/plain": [
       "dependants\n",
       "0     345\n",
       "1     102\n",
       "2     101\n",
       "3+     51\n",
       "dtype: int64"
      ]
     },
     "execution_count": 28,
     "metadata": {},
     "output_type": "execute_result"
    }
   ],
   "source": [
    "temp = train_df[train_df['dependants']=='0']# i changed this string entry to check the unique variables among dependants column\n",
    "train_df.groupby('dependants').size()"
   ]
  },
  {
   "cell_type": "markdown",
   "metadata": {},
   "source": [
    "It actually shows that people with 0 dependants are more likey to recieve loans than others with more dependants. so i dont want to give an advantage to those that do not complete this entry. and will remove the rest of the nulls from here and encode the remaning colums"
   ]
  },
  {
   "cell_type": "code",
   "execution_count": 29,
   "metadata": {
    "scrolled": true
   },
   "outputs": [],
   "source": [
    "# change loan status to binary\n",
    "\n",
    "temp = pd.get_dummies(train_df['loan status'])\n",
    "temp = temp.drop('N',axis=1)\n",
    "temp = temp.rename(columns = {'Y':'loan status'})\n",
    "train_df = train_df.drop('loan status',axis=1)\n",
    "train_df = pd.concat((train_df, temp), axis = 1)\n"
   ]
  },
  {
   "cell_type": "markdown",
   "metadata": {},
   "source": [
    "Gender is removed and remaining nulls are dropped then depenndants column is cleaned "
   ]
  },
  {
   "cell_type": "code",
   "execution_count": 30,
   "metadata": {},
   "outputs": [],
   "source": [
    "#drop gender\n",
    "train_df = train_df.drop('gender', axis=1)\n",
    "#drop remaining nulls\n",
    "#train_df = train_df.dropna()\n",
    "# drop loan id\n",
    "train_df = train_df.drop('loan id', axis=1)"
   ]
  },
  {
   "cell_type": "code",
   "execution_count": 31,
   "metadata": {},
   "outputs": [
    {
     "name": "stderr",
     "output_type": "stream",
     "text": [
      "<ipython-input-31-a662ada7002c>:2: FutureWarning: The default value of regex will change from True to False in a future version. In addition, single character regular expressions will *not* be treated as literal strings when regex=True.\n",
      "  temp = train_df['dependants'].str.replace('+','')\n"
     ]
    }
   ],
   "source": [
    "\n",
    "# make a copy and remove the addition sign\n",
    "temp = train_df['dependants'].str.replace('+','')\n",
    "# convert copy to int\n",
    "temp = temp.astype(float) \n",
    "# delete original\n",
    "train_df = train_df.drop(['dependants'], axis = 1)\n",
    "# concat copy to replace original\n",
    "train_df = pd.concat((temp, train_df), axis=1) "
   ]
  },
  {
   "cell_type": "code",
   "execution_count": 32,
   "metadata": {},
   "outputs": [],
   "source": [
    "train_df['dependants'] = train_df['dependants'].fillna(3.0)"
   ]
  },
  {
   "cell_type": "code",
   "execution_count": 33,
   "metadata": {},
   "outputs": [
    {
     "data": {
      "text/plain": [
       "dependants             0\n",
       "applicant income       0\n",
       "co applicant income    0\n",
       "loan amount            0\n",
       "loan amount term       0\n",
       "credit history         0\n",
       "property area          0\n",
       "married                0\n",
       "graduate               0\n",
       "self employed          0\n",
       "loan status            0\n",
       "dtype: int64"
      ]
     },
     "execution_count": 33,
     "metadata": {},
     "output_type": "execute_result"
    }
   ],
   "source": [
    "# final check\n",
    "train_df.isna().sum()"
   ]
  },
  {
   "cell_type": "code",
   "execution_count": 34,
   "metadata": {
    "scrolled": true
   },
   "outputs": [
    {
     "data": {
      "text/plain": [
       "dependants             float64\n",
       "applicant income         int64\n",
       "co applicant income    float64\n",
       "loan amount            float64\n",
       "loan amount term       float64\n",
       "credit history           int32\n",
       "property area           object\n",
       "married                  uint8\n",
       "graduate                 uint8\n",
       "self employed            uint8\n",
       "loan status              uint8\n",
       "dtype: object"
      ]
     },
     "execution_count": 34,
     "metadata": {},
     "output_type": "execute_result"
    }
   ],
   "source": [
    "train_df.dtypes"
   ]
  },
  {
   "cell_type": "code",
   "execution_count": 35,
   "metadata": {},
   "outputs": [],
   "source": [
    "from sklearn import preprocessing\n",
    "encoder = preprocessing.LabelEncoder()\n",
    "# encode property area\n",
    "train_df['property area'] = encoder.fit_transform(train_df['property area'].astype(str))"
   ]
  },
  {
   "cell_type": "code",
   "execution_count": 36,
   "metadata": {},
   "outputs": [
    {
     "data": {
      "text/plain": [
       "dependants             float64\n",
       "applicant income         int64\n",
       "co applicant income    float64\n",
       "loan amount            float64\n",
       "loan amount term       float64\n",
       "credit history           int32\n",
       "property area            int32\n",
       "married                  uint8\n",
       "graduate                 uint8\n",
       "self employed            uint8\n",
       "loan status              uint8\n",
       "dtype: object"
      ]
     },
     "execution_count": 36,
     "metadata": {},
     "output_type": "execute_result"
    }
   ],
   "source": [
    "train_df.dtypes"
   ]
  },
  {
   "cell_type": "markdown",
   "metadata": {},
   "source": [
    "## specify input and target"
   ]
  },
  {
   "cell_type": "code",
   "execution_count": 37,
   "metadata": {},
   "outputs": [],
   "source": [
    "from sklearn.model_selection import train_test_split\n",
    "from sklearn.metrics import accuracy_score\n",
    "from sklearn.metrics import confusion_matrix, classification_report\n",
    "import sklearn.metrics as metrics\n",
    "%matplotlib inline\n",
    "\n",
    "# X contains the determining features that provide the outcome y\n",
    "X= train_df[['dependants', 'married','graduate','self employed','applicant income','co applicant income'\n",
    "                     ,'loan amount','loan amount term','credit history','property area']]\n",
    "# Loan status is t=our required outcome\n",
    "y = train_df['loan status']"
   ]
  },
  {
   "cell_type": "markdown",
   "metadata": {},
   "source": [
    "## Split for model training and evaluation testing"
   ]
  },
  {
   "cell_type": "code",
   "execution_count": 38,
   "metadata": {},
   "outputs": [],
   "source": [
    "# Split the training and test set\n",
    "X_train, X_test, y_train, y_test = train_test_split(X, y, test_size=0.2, random_state=3) # 80%"
   ]
  },
  {
   "cell_type": "markdown",
   "metadata": {},
   "source": [
    "### Build Models"
   ]
  },
  {
   "cell_type": "code",
   "execution_count": 39,
   "metadata": {},
   "outputs": [],
   "source": [
    "# Import Classifiers\n",
    "from sklearn.linear_model import LogisticRegression\n",
    "from sklearn.ensemble import RandomForestClassifier\n",
    "from sklearn.tree import DecisionTreeClassifier \n",
    "\n",
    "# Build the Logistiic regression classifier\n",
    "LR = LogisticRegression(max_iter=100,C=10.0,solver = 'liblinear', random_state=3)\n",
    "# Build the Decision tree classifier\n",
    "DT = DecisionTreeClassifier(criterion='gini',max_depth=2)\n",
    "# Build the random forest classifier\n",
    "RF = RandomForestClassifier(n_estimators=200, max_depth=3)\n"
   ]
  },
  {
   "cell_type": "code",
   "execution_count": 40,
   "metadata": {},
   "outputs": [],
   "source": [
    "# fit each model\n",
    "LR_model = LR.fit(X_train, y_train)\n",
    "DT_model = DT.fit(X_train, y_train)\n",
    "RF_model = RF.fit(X_train, y_train)"
   ]
  },
  {
   "cell_type": "code",
   "execution_count": 41,
   "metadata": {},
   "outputs": [],
   "source": [
    "# predict \n",
    "LR_pred = LR_model.predict(X_test) \n",
    "DT_pred = DT_model.predict(X_test) \n",
    "RF_pred = RF_model.predict(X_test) "
   ]
  },
  {
   "cell_type": "markdown",
   "metadata": {},
   "source": [
    "I managed to optimize the model accuracy and concluded my initial model test with all most identical results. the random forest one varies slighly"
   ]
  },
  {
   "cell_type": "markdown",
   "metadata": {},
   "source": [
    "## Evaluation"
   ]
  },
  {
   "cell_type": "code",
   "execution_count": 42,
   "metadata": {},
   "outputs": [
    {
     "name": "stdout",
     "output_type": "stream",
     "text": [
      "0.8048780487804879\n",
      "0.8048780487804879\n",
      "0.8048780487804879\n"
     ]
    }
   ],
   "source": [
    "# compare the test prediction accuracy\n",
    "print(accuracy_score(y_test, LR_pred))\n",
    "print(accuracy_score(y_test, DT_pred))\n",
    "print(accuracy_score(y_test, RF_pred))"
   ]
  },
  {
   "cell_type": "code",
   "execution_count": 43,
   "metadata": {
    "scrolled": true
   },
   "outputs": [
    {
     "name": "stdout",
     "output_type": "stream",
     "text": [
      "LR\n",
      " [[13 15]\n",
      " [ 9 86]] \n",
      "\n",
      "DT\n",
      " [[12 16]\n",
      " [ 8 87]] \n",
      "\n",
      "RF\n",
      " [[13 15]\n",
      " [ 9 86]]\n"
     ]
    }
   ],
   "source": [
    "print('LR\\n',confusion_matrix(y_test, LR_pred),'\\n')\n",
    "print('DT\\n',confusion_matrix(y_test, DT_pred),'\\n')\n",
    "print('RF\\n',confusion_matrix(y_test, RF_pred))"
   ]
  },
  {
   "cell_type": "code",
   "execution_count": 44,
   "metadata": {},
   "outputs": [],
   "source": [
    "from sklearn.metrics import recall_score as rs\n",
    "from sklearn.metrics import precision_score as ps\n",
    "from sklearn.metrics import f1_score as fs\n",
    "from sklearn.metrics import balanced_accuracy_score as bas\n",
    "\n",
    "LR_recall = rs(y_test,LR_pred)\n",
    "LR_precision = ps(y_test,LR_pred)\n",
    "LR_f1 = fs(y_test,LR_pred)\n",
    "LR_ma = LR_model.score(X_test,y_test)\n",
    "\n",
    "DT_recall = rs(y_test,DT_pred)\n",
    "DT_precision = ps(y_test,DT_pred)\n",
    "DT_f1 = fs(y_test,DT_pred)\n",
    "DT_ma = DT_model.score(X_test,y_test)\n",
    "\n",
    "RF_recall = rs(y_test,RF_pred)\n",
    "RF_precision = ps(y_test,RF_pred)\n",
    "RF_f1 = fs(y_test,RF_pred)\n",
    "RF_ma = RF_model.score(X_test,y_test)\n"
   ]
  },
  {
   "cell_type": "code",
   "execution_count": 45,
   "metadata": {
    "scrolled": true
   },
   "outputs": [
    {
     "name": "stdout",
     "output_type": "stream",
     "text": [
      "\n",
      "*** Logistic Regression Evaluation metrics for test dataset ***\n",
      "Recall Score:  0.9052631578947369\n",
      "Precision Score:  0.8514851485148515\n",
      "F1 Score:  0.8775510204081632\n",
      "Accuracy:  0.8048780487804879\n",
      "\n",
      "*** Decision Tree Evaluation metrics for test dataset ***\n",
      "Recall Score:  0.9157894736842105\n",
      "Precision Score:  0.8446601941747572\n",
      "F1 Score:  0.8787878787878788\n",
      "Accuracy:  0.8048780487804879\n",
      "\n",
      "*** Random Forest Evaluation metrics for test dataset ***\n",
      "Recall Score:  0.9052631578947369\n",
      "Precision Score:  0.8514851485148515\n",
      "F1 Score:  0.8775510204081632\n",
      "Accuracy:  0.8048780487804879\n"
     ]
    }
   ],
   "source": [
    "print('\\n*** Logistic Regression Evaluation metrics for test dataset ***')\n",
    "print('Recall Score: ',LR_recall)\n",
    "print('Precision Score: ',LR_precision)\n",
    "print('F1 Score: ',LR_f1)\n",
    "print('Accuracy: ',LR_ma)\n",
    "\n",
    "print('\\n*** Decision Tree Evaluation metrics for test dataset ***')\n",
    "print('Recall Score: ',DT_recall)\n",
    "print('Precision Score: ',DT_precision)\n",
    "print('F1 Score: ',DT_f1)\n",
    "print('Accuracy: ',DT_ma)\n",
    "\n",
    "print('\\n*** Random Forest Evaluation metrics for test dataset ***')\n",
    "print('Recall Score: ',RF_recall)\n",
    "print('Precision Score: ',RF_precision)\n",
    "print('F1 Score: ',RF_f1)\n",
    "print('Accuracy: ',RF_ma)"
   ]
  },
  {
   "cell_type": "code",
   "execution_count": null,
   "metadata": {},
   "outputs": [],
   "source": []
  },
  {
   "cell_type": "code",
   "execution_count": 46,
   "metadata": {
    "scrolled": true
   },
   "outputs": [
    {
     "data": {
      "image/png": "[encoded data removed]",
      "text/plain": [
       "<Figure size 936x432 with 1 Axes>"
      ]
     },
     "metadata": {
      "needs_background": "light"
     },
     "output_type": "display_data"
    }
   ],
   "source": [
    "#import matplotlib.pyplot as plt\n",
    "fig = plt.figure(figsize=(13,6))\n",
    "#plt.bar(['Logistic Regression','Decision Tree','Random Forest'],[LR_f1,DT_f1,RF_f1],color=['red','green','purple','orange','Blue'])\n",
    "plt.plot(['Logistic Regression','Decision Tree','Random Forest'],[LR_f1,DT_f1,RF_f1],color='purple',marker='D')\n",
    "plt.plot(['Logistic Regression','Decision Tree','Random Forest'],[LR_ma,DT_ma,RF_ma],color='red',marker='^')\n",
    "plt.plot(['Logistic Regression','Decision Tree','Random Forest'],[LR_precision,DT_precision,RF_precision],color='blue',marker='s')\n",
    "plt.plot(['Logistic Regression','Decision Tree','Random Forest'],[LR_recall,DT_recall,RF_recall],color='green',marker='P')\n",
    "plt.legend(('F1 Score','Accuracy','Precision','Recall'))\n",
    "plt.title('Comparison of various models\\' performance')\n",
    "\n",
    "plt.show(fig)"
   ]
  },
  {
   "cell_type": "markdown",
   "metadata": {},
   "source": [
    "### Feature optimization Decision tree"
   ]
  },
  {
   "cell_type": "code",
   "execution_count": 47,
   "metadata": {
    "scrolled": true
   },
   "outputs": [
    {
     "data": {
      "text/html": [
       "<div>\n",
       "<style scoped>\n",
       "    .dataframe tbody tr th:only-of-type {\n",
       "        vertical-align: middle;\n",
       "    }\n",
       "\n",
       "    .dataframe tbody tr th {\n",
       "        vertical-align: top;\n",
       "    }\n",
       "\n",
       "    .dataframe thead th {\n",
       "        text-align: right;\n",
       "    }\n",
       "</style>\n",
       "<table border=\"1\" class=\"dataframe\">\n",
       "  <thead>\n",
       "    <tr style=\"text-align: right;\">\n",
       "      <th></th>\n",
       "      <th>feature</th>\n",
       "      <th>importance</th>\n",
       "    </tr>\n",
       "  </thead>\n",
       "  <tbody>\n",
       "    <tr>\n",
       "      <th>8</th>\n",
       "      <td>credit history</td>\n",
       "      <td>0.896373</td>\n",
       "    </tr>\n",
       "    <tr>\n",
       "      <th>9</th>\n",
       "      <td>property area</td>\n",
       "      <td>0.060285</td>\n",
       "    </tr>\n",
       "    <tr>\n",
       "      <th>6</th>\n",
       "      <td>loan amount</td>\n",
       "      <td>0.043342</td>\n",
       "    </tr>\n",
       "    <tr>\n",
       "      <th>0</th>\n",
       "      <td>dependants</td>\n",
       "      <td>0.000000</td>\n",
       "    </tr>\n",
       "    <tr>\n",
       "      <th>1</th>\n",
       "      <td>married</td>\n",
       "      <td>0.000000</td>\n",
       "    </tr>\n",
       "    <tr>\n",
       "      <th>2</th>\n",
       "      <td>graduate</td>\n",
       "      <td>0.000000</td>\n",
       "    </tr>\n",
       "    <tr>\n",
       "      <th>3</th>\n",
       "      <td>self employed</td>\n",
       "      <td>0.000000</td>\n",
       "    </tr>\n",
       "    <tr>\n",
       "      <th>4</th>\n",
       "      <td>applicant income</td>\n",
       "      <td>0.000000</td>\n",
       "    </tr>\n",
       "    <tr>\n",
       "      <th>5</th>\n",
       "      <td>co applicant income</td>\n",
       "      <td>0.000000</td>\n",
       "    </tr>\n",
       "    <tr>\n",
       "      <th>7</th>\n",
       "      <td>loan amount term</td>\n",
       "      <td>0.000000</td>\n",
       "    </tr>\n",
       "  </tbody>\n",
       "</table>\n",
       "</div>"
      ],
      "text/plain": [
       "               feature  importance\n",
       "8       credit history    0.896373\n",
       "9        property area    0.060285\n",
       "6          loan amount    0.043342\n",
       "0           dependants    0.000000\n",
       "1              married    0.000000\n",
       "2             graduate    0.000000\n",
       "3        self employed    0.000000\n",
       "4     applicant income    0.000000\n",
       "5  co applicant income    0.000000\n",
       "7     loan amount term    0.000000"
      ]
     },
     "execution_count": 47,
     "metadata": {},
     "output_type": "execute_result"
    }
   ],
   "source": [
    "# check Important features Decision tree\n",
    "feature_importances_df = pd.DataFrame(\n",
    "    {\"feature\": X.columns, \"importance\": DT.feature_importances_}\n",
    ").sort_values(\"importance\", ascending=False)\n",
    "\n",
    "# Display\n",
    "feature_importances_df"
   ]
  },
  {
   "cell_type": "markdown",
   "metadata": {},
   "source": [
    "### Feature optuimized decision tree model"
   ]
  },
  {
   "cell_type": "code",
   "execution_count": 48,
   "metadata": {
    "scrolled": true
   },
   "outputs": [
    {
     "name": "stdout",
     "output_type": "stream",
     "text": [
      "DT Accuracy: 0.8048780487804879\n"
     ]
    }
   ],
   "source": [
    "# X contains the determining features that provide the outcome y\n",
    "dt_X= train_df[['applicant income','property area','credit history']]\n",
    "# Loan status is t=our required outcome\n",
    "dt_y = train_df['loan status']\n",
    "\n",
    "# Split the training and test set\n",
    "X_train, X_test, y_train, y_test = train_test_split(dt_X, dt_y, test_size=0.2, random_state=3) # 80%\n",
    "\n",
    "DT = DecisionTreeClassifier(criterion='gini',max_depth=2)\n",
    "DT_model = DT.fit(X_train, y_train)\n",
    "DT_pred = DT_model.predict(X_test) \n",
    "print(\"DT Accuracy:\",accuracy_score(y_test, DT_pred))"
   ]
  },
  {
   "cell_type": "markdown",
   "metadata": {},
   "source": [
    "This didnt change...."
   ]
  },
  {
   "cell_type": "markdown",
   "metadata": {},
   "source": [
    "### Feature optimization Random forest"
   ]
  },
  {
   "cell_type": "code",
   "execution_count": 49,
   "metadata": {
    "scrolled": true
   },
   "outputs": [
    {
     "data": {
      "text/html": [
       "<div>\n",
       "<style scoped>\n",
       "    .dataframe tbody tr th:only-of-type {\n",
       "        vertical-align: middle;\n",
       "    }\n",
       "\n",
       "    .dataframe tbody tr th {\n",
       "        vertical-align: top;\n",
       "    }\n",
       "\n",
       "    .dataframe thead th {\n",
       "        text-align: right;\n",
       "    }\n",
       "</style>\n",
       "<table border=\"1\" class=\"dataframe\">\n",
       "  <thead>\n",
       "    <tr style=\"text-align: right;\">\n",
       "      <th></th>\n",
       "      <th>feature</th>\n",
       "      <th>importance</th>\n",
       "    </tr>\n",
       "  </thead>\n",
       "  <tbody>\n",
       "    <tr>\n",
       "      <th>8</th>\n",
       "      <td>credit history</td>\n",
       "      <td>0.518719</td>\n",
       "    </tr>\n",
       "    <tr>\n",
       "      <th>6</th>\n",
       "      <td>loan amount</td>\n",
       "      <td>0.123897</td>\n",
       "    </tr>\n",
       "    <tr>\n",
       "      <th>4</th>\n",
       "      <td>applicant income</td>\n",
       "      <td>0.099043</td>\n",
       "    </tr>\n",
       "    <tr>\n",
       "      <th>5</th>\n",
       "      <td>co applicant income</td>\n",
       "      <td>0.094912</td>\n",
       "    </tr>\n",
       "    <tr>\n",
       "      <th>9</th>\n",
       "      <td>property area</td>\n",
       "      <td>0.060224</td>\n",
       "    </tr>\n",
       "    <tr>\n",
       "      <th>7</th>\n",
       "      <td>loan amount term</td>\n",
       "      <td>0.038117</td>\n",
       "    </tr>\n",
       "    <tr>\n",
       "      <th>0</th>\n",
       "      <td>dependants</td>\n",
       "      <td>0.023987</td>\n",
       "    </tr>\n",
       "    <tr>\n",
       "      <th>2</th>\n",
       "      <td>graduate</td>\n",
       "      <td>0.022301</td>\n",
       "    </tr>\n",
       "    <tr>\n",
       "      <th>1</th>\n",
       "      <td>married</td>\n",
       "      <td>0.012234</td>\n",
       "    </tr>\n",
       "    <tr>\n",
       "      <th>3</th>\n",
       "      <td>self employed</td>\n",
       "      <td>0.006566</td>\n",
       "    </tr>\n",
       "  </tbody>\n",
       "</table>\n",
       "</div>"
      ],
      "text/plain": [
       "               feature  importance\n",
       "8       credit history    0.518719\n",
       "6          loan amount    0.123897\n",
       "4     applicant income    0.099043\n",
       "5  co applicant income    0.094912\n",
       "9        property area    0.060224\n",
       "7     loan amount term    0.038117\n",
       "0           dependants    0.023987\n",
       "2             graduate    0.022301\n",
       "1              married    0.012234\n",
       "3        self employed    0.006566"
      ]
     },
     "execution_count": 49,
     "metadata": {},
     "output_type": "execute_result"
    }
   ],
   "source": [
    "# check Important features Random forest\n",
    "feature_importances_df = pd.DataFrame(\n",
    "    {\"feature\": X.columns, \"importance\": RF.feature_importances_}\n",
    ").sort_values(\"importance\", ascending=False)\n",
    "\n",
    "# Display\n",
    "feature_importances_df"
   ]
  },
  {
   "cell_type": "code",
   "execution_count": 50,
   "metadata": {},
   "outputs": [],
   "source": [
    "# new input features\n",
    "\n",
    "# X contains the determining features that provide the outcome y\n",
    "rf_X= train_df[['applicant income','co applicant income'\n",
    "                     ,'loan amount','loan amount term','credit history', 'dependants', 'married']]\n",
    "# Loan status is t=our required outcome\n",
    "rf_y = train_df['loan status']"
   ]
  },
  {
   "cell_type": "code",
   "execution_count": 51,
   "metadata": {},
   "outputs": [],
   "source": [
    "# Split the training and test set\n",
    "X_train, X_test, y_train, y_test = train_test_split(rf_X, rf_y, test_size=0.2, random_state=3) # 80%"
   ]
  },
  {
   "cell_type": "code",
   "execution_count": 52,
   "metadata": {},
   "outputs": [],
   "source": [
    "# fit each model\n",
    "RF_model = RF.fit(X_train, y_train)"
   ]
  },
  {
   "cell_type": "code",
   "execution_count": 53,
   "metadata": {},
   "outputs": [
    {
     "name": "stdout",
     "output_type": "stream",
     "text": [
      "RF Accuracy: 0.7967479674796748\n"
     ]
    }
   ],
   "source": [
    "RF_pred = RF_model.predict(X_test) \n",
    "print(\"RF Accuracy:\",accuracy_score(y_test, RF_pred))\n"
   ]
  },
  {
   "cell_type": "markdown",
   "metadata": {},
   "source": [
    "This didnt change much it varies up and down between 81 and 78 percent.....\n"
   ]
  },
  {
   "cell_type": "markdown",
   "metadata": {},
   "source": [
    "## Predict test set"
   ]
  },
  {
   "cell_type": "code",
   "execution_count": 54,
   "metadata": {
    "scrolled": true
   },
   "outputs": [
    {
     "data": {
      "text/plain": [
       "Loan_ID               0\n",
       "Gender               11\n",
       "Married               0\n",
       "Dependents           10\n",
       "Education             0\n",
       "Self_Employed        23\n",
       "ApplicantIncome       0\n",
       "CoapplicantIncome     0\n",
       "LoanAmount            5\n",
       "Loan_Amount_Term      6\n",
       "Credit_History       29\n",
       "Property_Area         0\n",
       "loan status           0\n",
       "dtype: int64"
      ]
     },
     "execution_count": 54,
     "metadata": {},
     "output_type": "execute_result"
    }
   ],
   "source": [
    "test_df = pd.read_csv('bank_test.csv')\n",
    "\n",
    "test_df['loan status'] = 0\n",
    "test_df.isna().sum()"
   ]
  },
  {
   "cell_type": "markdown",
   "metadata": {},
   "source": [
    "### CLeaning"
   ]
  },
  {
   "cell_type": "code",
   "execution_count": 55,
   "metadata": {},
   "outputs": [],
   "source": [
    "# Format column naming consistency to go through the training\n",
    "test_df.columns = ['loan id','gender','married','dependants','education',\n",
    "                    'self employed','applicant income',\n",
    "                    'co applicant income','loan amount','loan amount term',\n",
    "                    'credit history','property area','loan status']"
   ]
  },
  {
   "cell_type": "code",
   "execution_count": 56,
   "metadata": {},
   "outputs": [],
   "source": [
    "def preprocess(train_df):# change column to binary and fill nulls with zeros\n",
    "    train_df['credit history'] = train_df['credit history'].fillna(0).astype(int)\n",
    "    train_df['loan amount term'] = train_df['loan amount term'].fillna(0)\n",
    "    train_df['loan amount'] = train_df['loan amount'].fillna(0)\n",
    "\n",
    "    # change to binary married column\n",
    "    temp = pd.get_dummies(train_df['married'])\n",
    "    temp = temp.drop('No',axis=1)\n",
    "    temp = temp.rename(columns = {'Yes':'married'})\n",
    "    train_df = train_df.drop('married',axis=1)\n",
    "    train_df = pd.concat((train_df, temp), axis = 1)\n",
    "\n",
    "    # change to binary education column\n",
    "    temp = pd.get_dummies(train_df['education'])\n",
    "    temp = temp.drop('Not Graduate',axis=1)\n",
    "    temp = temp.rename(columns = {'Graduate':'graduate'})\n",
    "    train_df = train_df.drop('education',axis=1)\n",
    "    train_df = pd.concat((train_df, temp), axis = 1)\n",
    "\n",
    "    # change self employed to binary\n",
    "\n",
    "    temp = pd.get_dummies(train_df['self employed'])\n",
    "    temp = temp.drop('No',axis=1)\n",
    "    temp = temp.rename(columns = {'Yes':'self employed'})\n",
    "    train_df = train_df.drop('self employed',axis=1)\n",
    "    train_df = pd.concat((train_df, temp), axis = 1)\n",
    "\n",
    "    #drop gender\n",
    "    train_df = train_df.drop('gender', axis=1)\n",
    "    #drop remaining nulls\n",
    "    #train_df = train_df.dropna()\n",
    "    # drop loan id\n",
    "    train_df = train_df.drop('loan id', axis=1)\n",
    "\n",
    "    # make a copy and remove the addition sign\n",
    "    temp = train_df['dependants'].str.replace('+','')\n",
    "    # convert copy to int\n",
    "    temp = temp.astype(float) \n",
    "    # delete original\n",
    "    train_df = train_df.drop(['dependants'], axis = 1)\n",
    "    # concat copy to replace original\n",
    "    train_df = pd.concat((temp, train_df), axis=1) \n",
    "    # fill nan\n",
    "    train_df['dependants'] = train_df['dependants'].fillna(3.0)\n",
    "\n",
    "    # encode property area\n",
    "    train_df['property area'] = encoder.fit_transform(train_df['property area'].astype(str))\n",
    "    return train_df"
   ]
  },
  {
   "cell_type": "code",
   "execution_count": 57,
   "metadata": {},
   "outputs": [
    {
     "name": "stderr",
     "output_type": "stream",
     "text": [
      "<ipython-input-56-0bd269486b28>:36: FutureWarning: The default value of regex will change from True to False in a future version. In addition, single character regular expressions will *not* be treated as literal strings when regex=True.\n",
      "  temp = train_df['dependants'].str.replace('+','')\n"
     ]
    }
   ],
   "source": [
    "cleaned_test_df = preprocess(test_df)\n",
    "X2= cleaned_test_df[['applicant income','co applicant income'\n",
    "                     ,'loan amount','loan amount term','credit history', 'dependants', 'married']]\n",
    "X1= cleaned_test_df[['dependants', 'applicant income', 'co applicant income', 'loan amount',\n",
    "       'loan amount term', 'credit history', 'property area', \n",
    "       'married', 'graduate', 'self employed']]"
   ]
  },
  {
   "cell_type": "code",
   "execution_count": 58,
   "metadata": {},
   "outputs": [
    {
     "data": {
      "text/plain": [
       "Index(['dependants', 'applicant income', 'co applicant income', 'loan amount',\n",
       "       'loan amount term', 'credit history', 'property area', 'loan status',\n",
       "       'married', 'graduate', 'self employed'],\n",
       "      dtype='object')"
      ]
     },
     "execution_count": 58,
     "metadata": {},
     "output_type": "execute_result"
    }
   ],
   "source": [
    "cleaned_test_df.columns"
   ]
  },
  {
   "cell_type": "code",
   "execution_count": 59,
   "metadata": {},
   "outputs": [
    {
     "name": "stderr",
     "output_type": "stream",
     "text": [
      "C:\\Users\\Acer\\anaconda3\\lib\\site-packages\\sklearn\\base.py:493: FutureWarning: The feature names should match those that were passed during fit. Starting version 1.2, an error will be raised.\n",
      "Feature names must be in the same order as they were in fit.\n",
      "\n",
      "  warnings.warn(message, FutureWarning)\n"
     ]
    }
   ],
   "source": [
    "RF_loan_pred = RF_model.predict(X2)\n",
    "RF_loan_pred = pd.DataFrame(RF_loan_pred,columns = ['rf loan prediction'])\n",
    "LR_loan_pred = LR_model.predict(X1)\n",
    "LR_loan_pred = pd.DataFrame(LR_loan_pred,columns = ['lr loan prediction'])"
   ]
  },
  {
   "cell_type": "code",
   "execution_count": 60,
   "metadata": {},
   "outputs": [],
   "source": [
    "pred_df = pd.concat((test_df, RF_loan_pred), axis = 1)\n",
    "pred_df = pd.concat((pred_df, LR_loan_pred), axis = 1)"
   ]
  },
  {
   "cell_type": "code",
   "execution_count": 61,
   "metadata": {},
   "outputs": [
    {
     "data": {
      "text/html": [
       "<div>\n",
       "<style scoped>\n",
       "    .dataframe tbody tr th:only-of-type {\n",
       "        vertical-align: middle;\n",
       "    }\n",
       "\n",
       "    .dataframe tbody tr th {\n",
       "        vertical-align: top;\n",
       "    }\n",
       "\n",
       "    .dataframe thead th {\n",
       "        text-align: right;\n",
       "    }\n",
       "</style>\n",
       "<table border=\"1\" class=\"dataframe\">\n",
       "  <thead>\n",
       "    <tr style=\"text-align: right;\">\n",
       "      <th></th>\n",
       "      <th>loan id</th>\n",
       "      <th>gender</th>\n",
       "      <th>married</th>\n",
       "      <th>dependants</th>\n",
       "      <th>education</th>\n",
       "      <th>self employed</th>\n",
       "      <th>applicant income</th>\n",
       "      <th>co applicant income</th>\n",
       "      <th>loan amount</th>\n",
       "      <th>loan amount term</th>\n",
       "      <th>credit history</th>\n",
       "      <th>property area</th>\n",
       "      <th>rf loan prediction</th>\n",
       "      <th>lr loan prediction</th>\n",
       "    </tr>\n",
       "  </thead>\n",
       "  <tbody>\n",
       "    <tr>\n",
       "      <th>0</th>\n",
       "      <td>LP001015</td>\n",
       "      <td>Male</td>\n",
       "      <td>Yes</td>\n",
       "      <td>0</td>\n",
       "      <td>Graduate</td>\n",
       "      <td>No</td>\n",
       "      <td>5720</td>\n",
       "      <td>0</td>\n",
       "      <td>110.0</td>\n",
       "      <td>360.0</td>\n",
       "      <td>1</td>\n",
       "      <td>Urban</td>\n",
       "      <td>1</td>\n",
       "      <td>1</td>\n",
       "    </tr>\n",
       "    <tr>\n",
       "      <th>1</th>\n",
       "      <td>LP001022</td>\n",
       "      <td>Male</td>\n",
       "      <td>Yes</td>\n",
       "      <td>1</td>\n",
       "      <td>Graduate</td>\n",
       "      <td>No</td>\n",
       "      <td>3076</td>\n",
       "      <td>1500</td>\n",
       "      <td>126.0</td>\n",
       "      <td>360.0</td>\n",
       "      <td>1</td>\n",
       "      <td>Urban</td>\n",
       "      <td>1</td>\n",
       "      <td>1</td>\n",
       "    </tr>\n",
       "    <tr>\n",
       "      <th>2</th>\n",
       "      <td>LP001031</td>\n",
       "      <td>Male</td>\n",
       "      <td>Yes</td>\n",
       "      <td>2</td>\n",
       "      <td>Graduate</td>\n",
       "      <td>No</td>\n",
       "      <td>5000</td>\n",
       "      <td>1800</td>\n",
       "      <td>208.0</td>\n",
       "      <td>360.0</td>\n",
       "      <td>1</td>\n",
       "      <td>Urban</td>\n",
       "      <td>1</td>\n",
       "      <td>1</td>\n",
       "    </tr>\n",
       "    <tr>\n",
       "      <th>3</th>\n",
       "      <td>LP001035</td>\n",
       "      <td>Male</td>\n",
       "      <td>Yes</td>\n",
       "      <td>2</td>\n",
       "      <td>Graduate</td>\n",
       "      <td>No</td>\n",
       "      <td>2340</td>\n",
       "      <td>2546</td>\n",
       "      <td>100.0</td>\n",
       "      <td>360.0</td>\n",
       "      <td>0</td>\n",
       "      <td>Urban</td>\n",
       "      <td>0</td>\n",
       "      <td>1</td>\n",
       "    </tr>\n",
       "    <tr>\n",
       "      <th>4</th>\n",
       "      <td>LP001051</td>\n",
       "      <td>Male</td>\n",
       "      <td>No</td>\n",
       "      <td>0</td>\n",
       "      <td>Not Graduate</td>\n",
       "      <td>No</td>\n",
       "      <td>3276</td>\n",
       "      <td>0</td>\n",
       "      <td>78.0</td>\n",
       "      <td>360.0</td>\n",
       "      <td>1</td>\n",
       "      <td>Urban</td>\n",
       "      <td>1</td>\n",
       "      <td>1</td>\n",
       "    </tr>\n",
       "    <tr>\n",
       "      <th>...</th>\n",
       "      <td>...</td>\n",
       "      <td>...</td>\n",
       "      <td>...</td>\n",
       "      <td>...</td>\n",
       "      <td>...</td>\n",
       "      <td>...</td>\n",
       "      <td>...</td>\n",
       "      <td>...</td>\n",
       "      <td>...</td>\n",
       "      <td>...</td>\n",
       "      <td>...</td>\n",
       "      <td>...</td>\n",
       "      <td>...</td>\n",
       "      <td>...</td>\n",
       "    </tr>\n",
       "    <tr>\n",
       "      <th>362</th>\n",
       "      <td>LP002971</td>\n",
       "      <td>Male</td>\n",
       "      <td>Yes</td>\n",
       "      <td>3+</td>\n",
       "      <td>Not Graduate</td>\n",
       "      <td>Yes</td>\n",
       "      <td>4009</td>\n",
       "      <td>1777</td>\n",
       "      <td>113.0</td>\n",
       "      <td>360.0</td>\n",
       "      <td>1</td>\n",
       "      <td>Urban</td>\n",
       "      <td>1</td>\n",
       "      <td>1</td>\n",
       "    </tr>\n",
       "    <tr>\n",
       "      <th>363</th>\n",
       "      <td>LP002975</td>\n",
       "      <td>Male</td>\n",
       "      <td>Yes</td>\n",
       "      <td>0</td>\n",
       "      <td>Graduate</td>\n",
       "      <td>No</td>\n",
       "      <td>4158</td>\n",
       "      <td>709</td>\n",
       "      <td>115.0</td>\n",
       "      <td>360.0</td>\n",
       "      <td>1</td>\n",
       "      <td>Urban</td>\n",
       "      <td>1</td>\n",
       "      <td>1</td>\n",
       "    </tr>\n",
       "    <tr>\n",
       "      <th>364</th>\n",
       "      <td>LP002980</td>\n",
       "      <td>Male</td>\n",
       "      <td>No</td>\n",
       "      <td>0</td>\n",
       "      <td>Graduate</td>\n",
       "      <td>No</td>\n",
       "      <td>3250</td>\n",
       "      <td>1993</td>\n",
       "      <td>126.0</td>\n",
       "      <td>360.0</td>\n",
       "      <td>0</td>\n",
       "      <td>Semiurban</td>\n",
       "      <td>0</td>\n",
       "      <td>1</td>\n",
       "    </tr>\n",
       "    <tr>\n",
       "      <th>365</th>\n",
       "      <td>LP002986</td>\n",
       "      <td>Male</td>\n",
       "      <td>Yes</td>\n",
       "      <td>0</td>\n",
       "      <td>Graduate</td>\n",
       "      <td>No</td>\n",
       "      <td>5000</td>\n",
       "      <td>2393</td>\n",
       "      <td>158.0</td>\n",
       "      <td>360.0</td>\n",
       "      <td>1</td>\n",
       "      <td>Rural</td>\n",
       "      <td>1</td>\n",
       "      <td>1</td>\n",
       "    </tr>\n",
       "    <tr>\n",
       "      <th>366</th>\n",
       "      <td>LP002989</td>\n",
       "      <td>Male</td>\n",
       "      <td>No</td>\n",
       "      <td>0</td>\n",
       "      <td>Graduate</td>\n",
       "      <td>Yes</td>\n",
       "      <td>9200</td>\n",
       "      <td>0</td>\n",
       "      <td>98.0</td>\n",
       "      <td>180.0</td>\n",
       "      <td>1</td>\n",
       "      <td>Rural</td>\n",
       "      <td>1</td>\n",
       "      <td>1</td>\n",
       "    </tr>\n",
       "  </tbody>\n",
       "</table>\n",
       "<p>367 rows × 14 columns</p>\n",
       "</div>"
      ],
      "text/plain": [
       "      loan id gender married dependants     education self employed  \\\n",
       "0    LP001015   Male     Yes          0      Graduate            No   \n",
       "1    LP001022   Male     Yes          1      Graduate            No   \n",
       "2    LP001031   Male     Yes          2      Graduate            No   \n",
       "3    LP001035   Male     Yes          2      Graduate            No   \n",
       "4    LP001051   Male      No          0  Not Graduate            No   \n",
       "..        ...    ...     ...        ...           ...           ...   \n",
       "362  LP002971   Male     Yes         3+  Not Graduate           Yes   \n",
       "363  LP002975   Male     Yes          0      Graduate            No   \n",
       "364  LP002980   Male      No          0      Graduate            No   \n",
       "365  LP002986   Male     Yes          0      Graduate            No   \n",
       "366  LP002989   Male      No          0      Graduate           Yes   \n",
       "\n",
       "     applicant income  co applicant income  loan amount  loan amount term  \\\n",
       "0                5720                    0        110.0             360.0   \n",
       "1                3076                 1500        126.0             360.0   \n",
       "2                5000                 1800        208.0             360.0   \n",
       "3                2340                 2546        100.0             360.0   \n",
       "4                3276                    0         78.0             360.0   \n",
       "..                ...                  ...          ...               ...   \n",
       "362              4009                 1777        113.0             360.0   \n",
       "363              4158                  709        115.0             360.0   \n",
       "364              3250                 1993        126.0             360.0   \n",
       "365              5000                 2393        158.0             360.0   \n",
       "366              9200                    0         98.0             180.0   \n",
       "\n",
       "     credit history property area  rf loan prediction  lr loan prediction  \n",
       "0                 1         Urban                   1                   1  \n",
       "1                 1         Urban                   1                   1  \n",
       "2                 1         Urban                   1                   1  \n",
       "3                 0         Urban                   0                   1  \n",
       "4                 1         Urban                   1                   1  \n",
       "..              ...           ...                 ...                 ...  \n",
       "362               1         Urban                   1                   1  \n",
       "363               1         Urban                   1                   1  \n",
       "364               0     Semiurban                   0                   1  \n",
       "365               1         Rural                   1                   1  \n",
       "366               1         Rural                   1                   1  \n",
       "\n",
       "[367 rows x 14 columns]"
      ]
     },
     "execution_count": 61,
     "metadata": {},
     "output_type": "execute_result"
    }
   ],
   "source": [
    "pred_df = pred_df.drop('loan status', axis =1)\n",
    "pred_df"
   ]
  },
  {
   "cell_type": "markdown",
   "metadata": {},
   "source": [
    "# Summary"
   ]
  },
  {
   "cell_type": "markdown",
   "metadata": {},
   "source": [
    " Logistic regression and Random forest are the most interesting. Rf said no to ones Decision tree said yes to."
   ]
  }
 ],
 "metadata": {
  "kernelspec": {
   "display_name": "Python 3",
   "language": "python",
   "name": "python3"
  },
  "language_info": {
   "codemirror_mode": {
    "name": "ipython",
    "version": 3
   },
   "file_extension": ".py",
   "mimetype": "text/x-python",
   "name": "python",
   "nbconvert_exporter": "python",
   "pygments_lexer": "ipython3",
   "version": "3.8.5"
  }
 },
 "nbformat": 4,
 "nbformat_minor": 4
}
